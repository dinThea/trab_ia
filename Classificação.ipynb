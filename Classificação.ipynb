{
 "cells": [
  {
   "cell_type": "markdown",
   "id": "fe765fd0",
   "metadata": {},
   "source": [
    "## ALUNOS:\n",
    "Nayra Kaline Santos Vidal, 769847 <br/>\n",
    "Iago Elias de Faria Barbosa, 759027"
   ]
  },
  {
   "cell_type": "markdown",
   "id": "6ed72623",
   "metadata": {},
   "source": [
    "# PARTE 1\n",
    "## Importações"
   ]
  },
  {
   "cell_type": "code",
   "execution_count": 191,
   "id": "9f467a52",
   "metadata": {},
   "outputs": [],
   "source": [
    "import pandas\n",
    "from sklearn                   import datasets\n",
    "from sklearn.model_selection   import train_test_split\n",
    "from sklearn.tree              import DecisionTreeClassifier, plot_tree\n",
    "from sklearn.metrics           import confusion_matrix, classification_report\n",
    "from sklearn.preprocessing     import MinMaxScaler\n",
    "from sklearn.cluster           import KMeans\n",
    "import matplotlib.pyplot       as plt\n",
    "import numpy as np\n",
    "import re"
   ]
  },
  {
   "cell_type": "markdown",
   "id": "ff0186eb",
   "metadata": {},
   "source": [
    "## Labels\n",
    "Seleção das labels"
   ]
  },
  {
   "cell_type": "code",
   "execution_count": 51,
   "id": "9c15cba1",
   "metadata": {},
   "outputs": [],
   "source": [
    "labels = ['class', 'Alcohol', 'Malicacid', 'Ash', \n",
    "          'Alcalinityofash', 'Magnesium', 'Totalphenols', \n",
    "          'Flavanoids', 'Nonflavanoidphenols', 'Proanthocyanins', 'Color intensity',\n",
    "          'Hue', 'OD280/OD315 of diluted wines', 'Proline']"
   ]
  },
  {
   "cell_type": "markdown",
   "id": "d4ff1513",
   "metadata": {},
   "source": [
    "## Leitura do conjunto de dados\n",
    "Por ser um conjunto de dados externo, a leitura de dados foi feita a partir da função read.csv() da biblioteca Pandas."
   ]
  },
  {
   "cell_type": "code",
   "execution_count": 52,
   "id": "95da2fdf",
   "metadata": {},
   "outputs": [
    {
     "data": {
      "text/html": [
       "<div>\n",
       "<style scoped>\n",
       "    .dataframe tbody tr th:only-of-type {\n",
       "        vertical-align: middle;\n",
       "    }\n",
       "\n",
       "    .dataframe tbody tr th {\n",
       "        vertical-align: top;\n",
       "    }\n",
       "\n",
       "    .dataframe thead th {\n",
       "        text-align: right;\n",
       "    }\n",
       "</style>\n",
       "<table border=\"1\" class=\"dataframe\">\n",
       "  <thead>\n",
       "    <tr style=\"text-align: right;\">\n",
       "      <th></th>\n",
       "      <th>class</th>\n",
       "      <th>Alcohol</th>\n",
       "      <th>Malicacid</th>\n",
       "      <th>Ash</th>\n",
       "      <th>Alcalinityofash</th>\n",
       "      <th>Magnesium</th>\n",
       "      <th>Totalphenols</th>\n",
       "      <th>Flavanoids</th>\n",
       "      <th>Nonflavanoidphenols</th>\n",
       "      <th>Proanthocyanins</th>\n",
       "      <th>Color intensity</th>\n",
       "      <th>Hue</th>\n",
       "      <th>OD280/OD315 of diluted wines</th>\n",
       "      <th>Proline</th>\n",
       "    </tr>\n",
       "  </thead>\n",
       "  <tbody>\n",
       "    <tr>\n",
       "      <th>count</th>\n",
       "      <td>178.000000</td>\n",
       "      <td>178.000000</td>\n",
       "      <td>178.000000</td>\n",
       "      <td>178.000000</td>\n",
       "      <td>178.000000</td>\n",
       "      <td>178.000000</td>\n",
       "      <td>178.000000</td>\n",
       "      <td>178.000000</td>\n",
       "      <td>178.000000</td>\n",
       "      <td>178.000000</td>\n",
       "      <td>178.000000</td>\n",
       "      <td>178.000000</td>\n",
       "      <td>178.000000</td>\n",
       "      <td>178.000000</td>\n",
       "    </tr>\n",
       "    <tr>\n",
       "      <th>mean</th>\n",
       "      <td>1.938202</td>\n",
       "      <td>13.000618</td>\n",
       "      <td>2.336348</td>\n",
       "      <td>2.366517</td>\n",
       "      <td>19.494944</td>\n",
       "      <td>99.741573</td>\n",
       "      <td>2.295112</td>\n",
       "      <td>2.029270</td>\n",
       "      <td>0.361854</td>\n",
       "      <td>1.590899</td>\n",
       "      <td>5.058090</td>\n",
       "      <td>0.957449</td>\n",
       "      <td>2.611685</td>\n",
       "      <td>746.893258</td>\n",
       "    </tr>\n",
       "    <tr>\n",
       "      <th>std</th>\n",
       "      <td>0.775035</td>\n",
       "      <td>0.811827</td>\n",
       "      <td>1.117146</td>\n",
       "      <td>0.274344</td>\n",
       "      <td>3.339564</td>\n",
       "      <td>14.282484</td>\n",
       "      <td>0.625851</td>\n",
       "      <td>0.998859</td>\n",
       "      <td>0.124453</td>\n",
       "      <td>0.572359</td>\n",
       "      <td>2.318286</td>\n",
       "      <td>0.228572</td>\n",
       "      <td>0.709990</td>\n",
       "      <td>314.907474</td>\n",
       "    </tr>\n",
       "    <tr>\n",
       "      <th>min</th>\n",
       "      <td>1.000000</td>\n",
       "      <td>11.030000</td>\n",
       "      <td>0.740000</td>\n",
       "      <td>1.360000</td>\n",
       "      <td>10.600000</td>\n",
       "      <td>70.000000</td>\n",
       "      <td>0.980000</td>\n",
       "      <td>0.340000</td>\n",
       "      <td>0.130000</td>\n",
       "      <td>0.410000</td>\n",
       "      <td>1.280000</td>\n",
       "      <td>0.480000</td>\n",
       "      <td>1.270000</td>\n",
       "      <td>278.000000</td>\n",
       "    </tr>\n",
       "    <tr>\n",
       "      <th>25%</th>\n",
       "      <td>1.000000</td>\n",
       "      <td>12.362500</td>\n",
       "      <td>1.602500</td>\n",
       "      <td>2.210000</td>\n",
       "      <td>17.200000</td>\n",
       "      <td>88.000000</td>\n",
       "      <td>1.742500</td>\n",
       "      <td>1.205000</td>\n",
       "      <td>0.270000</td>\n",
       "      <td>1.250000</td>\n",
       "      <td>3.220000</td>\n",
       "      <td>0.782500</td>\n",
       "      <td>1.937500</td>\n",
       "      <td>500.500000</td>\n",
       "    </tr>\n",
       "    <tr>\n",
       "      <th>50%</th>\n",
       "      <td>2.000000</td>\n",
       "      <td>13.050000</td>\n",
       "      <td>1.865000</td>\n",
       "      <td>2.360000</td>\n",
       "      <td>19.500000</td>\n",
       "      <td>98.000000</td>\n",
       "      <td>2.355000</td>\n",
       "      <td>2.135000</td>\n",
       "      <td>0.340000</td>\n",
       "      <td>1.555000</td>\n",
       "      <td>4.690000</td>\n",
       "      <td>0.965000</td>\n",
       "      <td>2.780000</td>\n",
       "      <td>673.500000</td>\n",
       "    </tr>\n",
       "    <tr>\n",
       "      <th>75%</th>\n",
       "      <td>3.000000</td>\n",
       "      <td>13.677500</td>\n",
       "      <td>3.082500</td>\n",
       "      <td>2.557500</td>\n",
       "      <td>21.500000</td>\n",
       "      <td>107.000000</td>\n",
       "      <td>2.800000</td>\n",
       "      <td>2.875000</td>\n",
       "      <td>0.437500</td>\n",
       "      <td>1.950000</td>\n",
       "      <td>6.200000</td>\n",
       "      <td>1.120000</td>\n",
       "      <td>3.170000</td>\n",
       "      <td>985.000000</td>\n",
       "    </tr>\n",
       "    <tr>\n",
       "      <th>max</th>\n",
       "      <td>3.000000</td>\n",
       "      <td>14.830000</td>\n",
       "      <td>5.800000</td>\n",
       "      <td>3.230000</td>\n",
       "      <td>30.000000</td>\n",
       "      <td>162.000000</td>\n",
       "      <td>3.880000</td>\n",
       "      <td>5.080000</td>\n",
       "      <td>0.660000</td>\n",
       "      <td>3.580000</td>\n",
       "      <td>13.000000</td>\n",
       "      <td>1.710000</td>\n",
       "      <td>4.000000</td>\n",
       "      <td>1680.000000</td>\n",
       "    </tr>\n",
       "  </tbody>\n",
       "</table>\n",
       "</div>"
      ],
      "text/plain": [
       "            class     Alcohol   Malicacid         Ash  Alcalinityofash  \\\n",
       "count  178.000000  178.000000  178.000000  178.000000       178.000000   \n",
       "mean     1.938202   13.000618    2.336348    2.366517        19.494944   \n",
       "std      0.775035    0.811827    1.117146    0.274344         3.339564   \n",
       "min      1.000000   11.030000    0.740000    1.360000        10.600000   \n",
       "25%      1.000000   12.362500    1.602500    2.210000        17.200000   \n",
       "50%      2.000000   13.050000    1.865000    2.360000        19.500000   \n",
       "75%      3.000000   13.677500    3.082500    2.557500        21.500000   \n",
       "max      3.000000   14.830000    5.800000    3.230000        30.000000   \n",
       "\n",
       "        Magnesium  Totalphenols  Flavanoids  Nonflavanoidphenols  \\\n",
       "count  178.000000    178.000000  178.000000           178.000000   \n",
       "mean    99.741573      2.295112    2.029270             0.361854   \n",
       "std     14.282484      0.625851    0.998859             0.124453   \n",
       "min     70.000000      0.980000    0.340000             0.130000   \n",
       "25%     88.000000      1.742500    1.205000             0.270000   \n",
       "50%     98.000000      2.355000    2.135000             0.340000   \n",
       "75%    107.000000      2.800000    2.875000             0.437500   \n",
       "max    162.000000      3.880000    5.080000             0.660000   \n",
       "\n",
       "       Proanthocyanins  Color intensity         Hue  \\\n",
       "count       178.000000       178.000000  178.000000   \n",
       "mean          1.590899         5.058090    0.957449   \n",
       "std           0.572359         2.318286    0.228572   \n",
       "min           0.410000         1.280000    0.480000   \n",
       "25%           1.250000         3.220000    0.782500   \n",
       "50%           1.555000         4.690000    0.965000   \n",
       "75%           1.950000         6.200000    1.120000   \n",
       "max           3.580000        13.000000    1.710000   \n",
       "\n",
       "       OD280/OD315 of diluted wines      Proline  \n",
       "count                    178.000000   178.000000  \n",
       "mean                       2.611685   746.893258  \n",
       "std                        0.709990   314.907474  \n",
       "min                        1.270000   278.000000  \n",
       "25%                        1.937500   500.500000  \n",
       "50%                        2.780000   673.500000  \n",
       "75%                        3.170000   985.000000  \n",
       "max                        4.000000  1680.000000  "
      ]
     },
     "execution_count": 52,
     "metadata": {},
     "output_type": "execute_result"
    }
   ],
   "source": [
    "wine_csv = pandas.read_csv('dataset/wine.data', names=labels)\n",
    "wine_csv.describe()"
   ]
  },
  {
   "cell_type": "markdown",
   "id": "35e00f17",
   "metadata": {},
   "source": [
    "## Atributos (x) e Classes(y)\n",
    "Separação do conjunto de dados entre uma matriz de atributos, que é X, e um vetor de classes, Y."
   ]
  },
  {
   "cell_type": "code",
   "execution_count": 66,
   "id": "3ffba161",
   "metadata": {},
   "outputs": [],
   "source": [
    "y = pandas.get_dummies(wine_csv['class']) # classes\n",
    "x = wine_csv[list(filter(lambda x: x != 'class', labels))]"
   ]
  },
  {
   "cell_type": "markdown",
   "id": "0ec7f80e",
   "metadata": {},
   "source": [
    "## Conjunto de teste\n",
    "Divisão do conjunto de dados em um conjunto de treinamento e um conjunto de teste"
   ]
  },
  {
   "cell_type": "code",
   "execution_count": 70,
   "id": "7bc61a1d",
   "metadata": {},
   "outputs": [],
   "source": [
    "x_train, x_test, y_train, y_test = train_test_split(\n",
    "    x, y, test_size=0.33, random_state=42\n",
    ")"
   ]
  },
  {
   "cell_type": "markdown",
   "id": "5786be3e",
   "metadata": {},
   "source": [
    "## Indução de árvore de decisão\n",
    "Aplicação do algoritmo de indição de árvore de decisão no conjunto de treinamento."
   ]
  },
  {
   "cell_type": "code",
   "execution_count": 81,
   "id": "27f0d833",
   "metadata": {},
   "outputs": [],
   "source": [
    "clf = DecisionTreeClassifier(criterion='entropy')\n",
    "clf = clf.fit(x_train,y_train)"
   ]
  },
  {
   "cell_type": "markdown",
   "id": "a954c890",
   "metadata": {},
   "source": [
    "## Árvore de decisão\n",
    "Função plot_tree para gerar a figura da árvore de decisão."
   ]
  },
  {
   "cell_type": "code",
   "execution_count": 79,
   "id": "b2b0fa3b",
   "metadata": {},
   "outputs": [
    {
     "data": {
      "text/plain": [
       "[Text(148.8, 195.696, 'X[9] <= 3.82\\nentropy = 0.911\\nsamples = 119\\nvalue = [[80, 39]\\n[72, 47]\\n[86, 33]]'),\n",
       " Text(74.4, 152.208, 'X[12] <= 774.0\\nentropy = 0.181\\nsamples = 43\\nvalue = [[41, 2]\\n[2, 41]\\n[43, 0]]'),\n",
       " Text(37.2, 108.72, 'entropy = 0.0\\nsamples = 37\\nvalue = [[37, 0]\\n[0, 37]\\n[37, 0]]'),\n",
       " Text(111.60000000000001, 108.72, 'X[9] <= 3.465\\nentropy = 0.612\\nsamples = 6\\nvalue = [[4, 2]\\n[2, 4]\\n[6, 0]]'),\n",
       " Text(74.4, 65.232, 'entropy = 0.0\\nsamples = 4\\nvalue = [[4, 0]\\n[0, 4]\\n[4, 0]]'),\n",
       " Text(148.8, 65.232, 'entropy = 0.0\\nsamples = 2\\nvalue = [[0, 2]\\n[2, 0]\\n[2, 0]]'),\n",
       " Text(223.20000000000002, 152.208, 'X[6] <= 1.4\\nentropy = 0.795\\nsamples = 76\\nvalue = [[39, 37]\\n[70, 6]\\n[43, 33]]'),\n",
       " Text(186.0, 108.72, 'entropy = 0.0\\nsamples = 33\\nvalue = [[33, 0]\\n[33, 0]\\n[0, 33]]'),\n",
       " Text(260.40000000000003, 108.72, 'X[12] <= 724.5\\nentropy = 0.389\\nsamples = 43\\nvalue = [[6, 37]\\n[37, 6]\\n[43, 0]]'),\n",
       " Text(223.20000000000002, 65.232, 'X[0] <= 13.145\\nentropy = 0.394\\nsamples = 7\\nvalue = [[6, 1]\\n[1, 6]\\n[7, 0]]'),\n",
       " Text(186.0, 21.744, 'entropy = 0.0\\nsamples = 6\\nvalue = [[6, 0]\\n[0, 6]\\n[6, 0]]'),\n",
       " Text(260.40000000000003, 21.744, 'entropy = 0.0\\nsamples = 1\\nvalue = [[0, 1]\\n[1, 0]\\n[1, 0]]'),\n",
       " Text(297.6, 65.232, 'entropy = 0.0\\nsamples = 36\\nvalue = [[0, 36]\\n[36, 0]\\n[36, 0]]')]"
      ]
     },
     "execution_count": 79,
     "metadata": {},
     "output_type": "execute_result"
    },
    {
     "data": {
      "image/png": "[encoded data removed]",
      "text/plain": [
       "<Figure size 432x288 with 1 Axes>"
      ]
     },
     "metadata": {
      "needs_background": "light"
     },
     "output_type": "display_data"
    }
   ],
   "source": [
    "plot_tree(clf)"
   ]
  },
  {
   "cell_type": "markdown",
   "id": "6d00f7df",
   "metadata": {},
   "source": [
    "## Classificação\n",
    "Classificação dos dados de teste."
   ]
  },
  {
   "cell_type": "code",
   "execution_count": 95,
   "id": "1344a84c",
   "metadata": {},
   "outputs": [],
   "source": [
    "y_pred = clf.predict(x_test)"
   ]
  },
  {
   "cell_type": "markdown",
   "id": "f17c7b0e",
   "metadata": {},
   "source": [
    "## Organização dos dados na forma de classe"
   ]
  },
  {
   "cell_type": "code",
   "execution_count": 96,
   "id": "fc3adde2",
   "metadata": {},
   "outputs": [],
   "source": [
    "classes_y_test = [np.where(r==1)[0][0] for r in y_test.to_numpy()]\n",
    "classes_y_pred = [np.where(r==1)[0][0] for r in y_pred]"
   ]
  },
  {
   "cell_type": "markdown",
   "id": "ab1f20bf",
   "metadata": {},
   "source": [
    "## Resultado da função confusion_matrix()"
   ]
  },
  {
   "cell_type": "code",
   "execution_count": 91,
   "id": "7177d6b2",
   "metadata": {},
   "outputs": [
    {
     "data": {
      "text/plain": [
       "array([[19,  1,  0],\n",
       "       [ 0, 24,  0],\n",
       "       [ 0,  1, 14]])"
      ]
     },
     "execution_count": 91,
     "metadata": {},
     "output_type": "execute_result"
    }
   ],
   "source": [
    "confusion_matrix(classes_y_test, classes_y_pred)"
   ]
  },
  {
   "cell_type": "markdown",
   "id": "a611663b",
   "metadata": {},
   "source": [
    "## Resultado da função classification_report()"
   ]
  },
  {
   "cell_type": "code",
   "execution_count": 94,
   "id": "ab1f9702",
   "metadata": {},
   "outputs": [
    {
     "name": "stdout",
     "output_type": "stream",
     "text": [
      "              precision    recall  f1-score   support\n",
      "\n",
      "           0       1.00      0.95      0.97        20\n",
      "           1       0.92      1.00      0.96        24\n",
      "           2       1.00      0.93      0.97        15\n",
      "\n",
      "    accuracy                           0.97        59\n",
      "   macro avg       0.97      0.96      0.97        59\n",
      "weighted avg       0.97      0.97      0.97        59\n",
      "\n"
     ]
    }
   ],
   "source": [
    "print (classification_report(classes_y_test, classes_y_pred))"
   ]
  },
  {
   "cell_type": "markdown",
   "id": "4d9e4c8a",
   "metadata": {},
   "source": [
    "# PARTE 2"
   ]
  },
  {
   "cell_type": "code",
   "execution_count": 154,
   "id": "51c7102d",
   "metadata": {},
   "outputs": [],
   "source": [
    "arabic_trips_csv = pandas.read_csv('dataset/iraqi_tourism_places.csv')"
   ]
  },
  {
   "cell_type": "code",
   "execution_count": 155,
   "id": "0a8a15f5",
   "metadata": {},
   "outputs": [],
   "source": [
    "mapping = [\"A: Adventure\", \"C: Culture\", \"E: Environmental\", \"H: Health\", \"N: Nature\", \"R: Religious\", \"SP: SPort\", \"SH: SHopping\", \"B: Business\", \"L: leisure\"]"
   ]
  },
  {
   "cell_type": "code",
   "execution_count": 156,
   "id": "1b6e8793",
   "metadata": {},
   "outputs": [],
   "source": [
    "arabic_trips_csv = arabic_trips_csv.drop(['Place names.1'], axis=1)\n",
    "arabic_trips_csv = arabic_trips_csv.fillna(0)"
   ]
  },
  {
   "cell_type": "code",
   "execution_count": 157,
   "id": "dfd15859",
   "metadata": {},
   "outputs": [
    {
     "data": {
      "text/html": [
       "<div>\n",
       "<style scoped>\n",
       "    .dataframe tbody tr th:only-of-type {\n",
       "        vertical-align: middle;\n",
       "    }\n",
       "\n",
       "    .dataframe tbody tr th {\n",
       "        vertical-align: top;\n",
       "    }\n",
       "\n",
       "    .dataframe thead th {\n",
       "        text-align: right;\n",
       "    }\n",
       "</style>\n",
       "<table border=\"1\" class=\"dataframe\">\n",
       "  <thead>\n",
       "    <tr style=\"text-align: right;\">\n",
       "      <th></th>\n",
       "      <th>ID</th>\n",
       "      <th>City</th>\n",
       "      <th>Place names</th>\n",
       "      <th>Latitude</th>\n",
       "      <th>Longitude</th>\n",
       "      <th>A</th>\n",
       "      <th>C</th>\n",
       "      <th>E</th>\n",
       "      <th>H</th>\n",
       "      <th>N</th>\n",
       "      <th>R</th>\n",
       "      <th>SP</th>\n",
       "      <th>S   H</th>\n",
       "      <th>B</th>\n",
       "      <th>L</th>\n",
       "    </tr>\n",
       "  </thead>\n",
       "  <tbody>\n",
       "    <tr>\n",
       "      <th>0</th>\n",
       "      <td>1</td>\n",
       "      <td>Baghdad</td>\n",
       "      <td>Kadhimiya kindergarten</td>\n",
       "      <td>33.379507</td>\n",
       "      <td>44.339878</td>\n",
       "      <td>0.0</td>\n",
       "      <td>1.0</td>\n",
       "      <td>0.0</td>\n",
       "      <td>0.0</td>\n",
       "      <td>0.0</td>\n",
       "      <td>1.0</td>\n",
       "      <td>0.0</td>\n",
       "      <td>0.0</td>\n",
       "      <td>0.0</td>\n",
       "      <td>0.0</td>\n",
       "    </tr>\n",
       "    <tr>\n",
       "      <th>1</th>\n",
       "      <td>2</td>\n",
       "      <td>Baghdad</td>\n",
       "      <td>the aquatic city</td>\n",
       "      <td>33.252217</td>\n",
       "      <td>44.495281</td>\n",
       "      <td>1.0</td>\n",
       "      <td>0.0</td>\n",
       "      <td>0.0</td>\n",
       "      <td>0.0</td>\n",
       "      <td>0.0</td>\n",
       "      <td>0.0</td>\n",
       "      <td>1.0</td>\n",
       "      <td>0.0</td>\n",
       "      <td>0.0</td>\n",
       "      <td>0.0</td>\n",
       "    </tr>\n",
       "    <tr>\n",
       "      <th>2</th>\n",
       "      <td>3</td>\n",
       "      <td>Baghdad</td>\n",
       "      <td>Mosque and shrine of Imam Abu Hanifa Noman</td>\n",
       "      <td>33.371865</td>\n",
       "      <td>44.358385</td>\n",
       "      <td>0.0</td>\n",
       "      <td>1.0</td>\n",
       "      <td>0.0</td>\n",
       "      <td>0.0</td>\n",
       "      <td>0.0</td>\n",
       "      <td>1.0</td>\n",
       "      <td>0.0</td>\n",
       "      <td>0.0</td>\n",
       "      <td>0.0</td>\n",
       "      <td>0.0</td>\n",
       "    </tr>\n",
       "    <tr>\n",
       "      <th>3</th>\n",
       "      <td>4</td>\n",
       "      <td>Baghdad</td>\n",
       "      <td>Bartha Mosque</td>\n",
       "      <td>33.351238</td>\n",
       "      <td>44.361236</td>\n",
       "      <td>0.0</td>\n",
       "      <td>1.0</td>\n",
       "      <td>0.0</td>\n",
       "      <td>0.0</td>\n",
       "      <td>0.0</td>\n",
       "      <td>1.0</td>\n",
       "      <td>0.0</td>\n",
       "      <td>0.0</td>\n",
       "      <td>0.0</td>\n",
       "      <td>0.0</td>\n",
       "    </tr>\n",
       "    <tr>\n",
       "      <th>4</th>\n",
       "      <td>5</td>\n",
       "      <td>Baghdad</td>\n",
       "      <td>Mosque and shrine of Sheikh Abdul Qadir Kilani</td>\n",
       "      <td>33.337880</td>\n",
       "      <td>44.410124</td>\n",
       "      <td>0.0</td>\n",
       "      <td>1.0</td>\n",
       "      <td>0.0</td>\n",
       "      <td>0.0</td>\n",
       "      <td>0.0</td>\n",
       "      <td>1.0</td>\n",
       "      <td>0.0</td>\n",
       "      <td>0.0</td>\n",
       "      <td>0.0</td>\n",
       "      <td>0.0</td>\n",
       "    </tr>\n",
       "  </tbody>\n",
       "</table>\n",
       "</div>"
      ],
      "text/plain": [
       "   ID     City                                     Place names   Latitude  \\\n",
       "0   1  Baghdad                          Kadhimiya kindergarten  33.379507   \n",
       "1   2  Baghdad                                the aquatic city  33.252217   \n",
       "2   3  Baghdad      Mosque and shrine of Imam Abu Hanifa Noman  33.371865   \n",
       "3   4  Baghdad                                   Bartha Mosque  33.351238   \n",
       "4   5  Baghdad  Mosque and shrine of Sheikh Abdul Qadir Kilani  33.337880   \n",
       "\n",
       "   Longitude    A    C    E    H    N    R   SP  S   H    B    L  \n",
       "0  44.339878  0.0  1.0  0.0  0.0  0.0  1.0  0.0    0.0  0.0  0.0  \n",
       "1  44.495281  1.0  0.0  0.0  0.0  0.0  0.0  1.0    0.0  0.0  0.0  \n",
       "2  44.358385  0.0  1.0  0.0  0.0  0.0  1.0  0.0    0.0  0.0  0.0  \n",
       "3  44.361236  0.0  1.0  0.0  0.0  0.0  1.0  0.0    0.0  0.0  0.0  \n",
       "4  44.410124  0.0  1.0  0.0  0.0  0.0  1.0  0.0    0.0  0.0  0.0  "
      ]
     },
     "execution_count": 157,
     "metadata": {},
     "output_type": "execute_result"
    }
   ],
   "source": [
    "arabic_trips_csv.head()"
   ]
  },
  {
   "cell_type": "code",
   "execution_count": 163,
   "id": "b35da39c",
   "metadata": {},
   "outputs": [],
   "source": [
    "scaler = MinMaxScaler()\n",
    "res = scaler.fit(arabic_trips_csv.filter(['Latitude', 'Longitude']))"
   ]
  },
  {
   "cell_type": "code",
   "execution_count": 173,
   "id": "ffd21753",
   "metadata": {},
   "outputs": [],
   "source": [
    "transformed = scaler.transform(arabic_trips_csv.filter(['Latitude', 'Longitude']))\n",
    "arabic_trips_csv['Latitude'] = transformed[:,0]\n",
    "arabic_trips_csv['Longitude'] = transformed[:,1]"
   ]
  },
  {
   "cell_type": "code",
   "execution_count": 193,
   "id": "bae2969f",
   "metadata": {},
   "outputs": [],
   "source": [
    "clusters = []\n",
    "results = []\n",
    "for cluster_size in range(2,15):\n",
    "    data_without_strings = arabic_trips_csv.drop(['ID', 'Place names', 'City'], axis=1)\n",
    "    kmeans = KMeans(n_clusters=cluster_size, random_state=0).fit(data_without_strings)\n",
    "    clusters.append(cluster_size)\n",
    "    results.append(kmeans.inertia_)"
   ]
  },
  {
   "cell_type": "code",
   "execution_count": 194,
   "id": "81fe3b45",
   "metadata": {},
   "outputs": [
    {
     "data": {
      "image/png": "[encoded data removed]",
      "text/plain": [
       "<Figure size 432x288 with 1 Axes>"
      ]
     },
     "metadata": {
      "needs_background": "light"
     },
     "output_type": "display_data"
    }
   ],
   "source": [
    "fig = plt.figure()\n",
    "fig.subplots_adjust(top=0.8)\n",
    "ax1 = fig.add_subplot(211)\n",
    "ax1.set_ylabel('kmeans.inertia_')\n",
    "ax1.set_xlabel('n_clusters')\n",
    "ax1.set_title('Soma Quadrática das Distâncias/Número de clusters')\n",
    "\n",
    "line, = ax1.plot(clusters, results, color='blue', lw=2)\n",
    "\n",
    "plt.show()"
   ]
  }
 ],
 "metadata": {
  "kernelspec": {
   "display_name": "Python 3",
   "language": "python",
   "name": "python3"
  },
  "language_info": {
   "codemirror_mode": {
    "name": "ipython",
    "version": 3
   },
   "file_extension": ".py",
   "mimetype": "text/x-python",
   "name": "python",
   "nbconvert_exporter": "python",
   "pygments_lexer": "ipython3",
   "version": "3.8.5"
  }
 },
 "nbformat": 4,
 "nbformat_minor": 5
}
